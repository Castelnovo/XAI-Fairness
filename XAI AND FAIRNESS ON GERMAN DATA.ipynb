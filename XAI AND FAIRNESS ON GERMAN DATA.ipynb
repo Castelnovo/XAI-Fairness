{
 "cells": [
  {
   "cell_type": "markdown",
   "metadata": {},
   "source": [
    "___\n",
    "\n",
    "\n",
    "___\n",
    "# EXPLAINABLE AI (XAI) AND FAIRNESS\n",
    "\n"
   ]
  },
  {
   "cell_type": "markdown",
   "metadata": {},
   "source": [
    "# Import Libraries\n"
   ]
  },
  {
   "cell_type": "code",
   "execution_count": 244,
   "metadata": {},
   "outputs": [],
   "source": [
    "import pandas as pd\n",
    "import numpy as np\n",
    "import matplotlib.pyplot as plt\n",
    "import seaborn as sns\n",
    "%matplotlib inline\n",
    "from sklearn.tree import DecisionTreeClassifier\n",
    "from IPython.display import Image  \n",
    "from sklearn import tree\n",
    "import pydotplus\n",
    "from graphviz import Digraph\n",
    "from IPython.display import Image\n",
    "from sklearn.model_selection import train_test_split\n",
    "from sklearn.ensemble import RandomForestClassifier\n",
    "from sklearn.neural_network import MLPClassifier\n",
    "from sklearn.preprocessing import StandardScaler, OneHotEncoder\n",
    "from sklearn.impute import SimpleImputer\n",
    "from sklearn.pipeline import Pipeline\n",
    "from sklearn.compose import ColumnTransformer\n",
    "from sklearn.metrics import roc_auc_score\n",
    "import lime\n",
    "#from anchor import anchor_tabular\n",
    "import xgboost \n",
    "#import shap\n",
    "import alibi\n",
    "from imblearn.over_sampling import SMOTE\n",
    "import random\n",
    "import dalex as dx"
   ]
  },
  {
   "cell_type": "markdown",
   "metadata": {},
   "source": [
    "## Get the Data\n"
   ]
  },
  {
   "cell_type": "code",
   "execution_count": 2,
   "metadata": {},
   "outputs": [],
   "source": [
    "columns_name = [\"Status_of_existing_checking_account\",\"Duration_in_month\",\"Credit_history\",\"Purpose\", \"Credit_amount\", \"Savings_account\",\n",
    "          \"employment_since\",\"Installment_rate_of_disposable_income\",\"Sex\",\"Other_debtors\",\"Present_residence_since\",\n",
    "           \"Property\",\"Age\",\"Other_installment_plans\",\"Housing\",\"Number_of_credits\",\"Job\",\"Number_of_people_being_liable_to_provide_maintenance\",\n",
    "          \"Telephone\",\"foreign_worker\"]"
   ]
  },
  {
   "cell_type": "code",
   "execution_count": 3,
   "metadata": {},
   "outputs": [],
   "source": [
    "german_data = pd.read_csv('german.data',sep=\" \", header = None, names = columns_name,index_col=False)"
   ]
  },
  {
   "cell_type": "code",
   "execution_count": 4,
   "metadata": {},
   "outputs": [
    {
     "data": {
      "text/html": [
       "<div>\n",
       "<style scoped>\n",
       "    .dataframe tbody tr th:only-of-type {\n",
       "        vertical-align: middle;\n",
       "    }\n",
       "\n",
       "    .dataframe tbody tr th {\n",
       "        vertical-align: top;\n",
       "    }\n",
       "\n",
       "    .dataframe thead th {\n",
       "        text-align: right;\n",
       "    }\n",
       "</style>\n",
       "<table border=\"1\" class=\"dataframe\">\n",
       "  <thead>\n",
       "    <tr style=\"text-align: right;\">\n",
       "      <th></th>\n",
       "      <th>Status_of_existing_checking_account</th>\n",
       "      <th>Duration_in_month</th>\n",
       "      <th>Credit_history</th>\n",
       "      <th>Purpose</th>\n",
       "      <th>Credit_amount</th>\n",
       "      <th>Savings_account</th>\n",
       "      <th>employment_since</th>\n",
       "      <th>Installment_rate_of_disposable_income</th>\n",
       "      <th>Sex</th>\n",
       "      <th>Other_debtors</th>\n",
       "      <th>Present_residence_since</th>\n",
       "      <th>Property</th>\n",
       "      <th>Age</th>\n",
       "      <th>Other_installment_plans</th>\n",
       "      <th>Housing</th>\n",
       "      <th>Number_of_credits</th>\n",
       "      <th>Job</th>\n",
       "      <th>Number_of_people_being_liable_to_provide_maintenance</th>\n",
       "      <th>Telephone</th>\n",
       "      <th>foreign_worker</th>\n",
       "    </tr>\n",
       "  </thead>\n",
       "  <tbody>\n",
       "    <tr>\n",
       "      <th>0</th>\n",
       "      <td>A11</td>\n",
       "      <td>6</td>\n",
       "      <td>A34</td>\n",
       "      <td>A43</td>\n",
       "      <td>1169</td>\n",
       "      <td>A65</td>\n",
       "      <td>A75</td>\n",
       "      <td>4</td>\n",
       "      <td>A93</td>\n",
       "      <td>A101</td>\n",
       "      <td>4</td>\n",
       "      <td>A121</td>\n",
       "      <td>67</td>\n",
       "      <td>A143</td>\n",
       "      <td>A152</td>\n",
       "      <td>2</td>\n",
       "      <td>A173</td>\n",
       "      <td>1</td>\n",
       "      <td>A192</td>\n",
       "      <td>A201</td>\n",
       "    </tr>\n",
       "    <tr>\n",
       "      <th>1</th>\n",
       "      <td>A12</td>\n",
       "      <td>48</td>\n",
       "      <td>A32</td>\n",
       "      <td>A43</td>\n",
       "      <td>5951</td>\n",
       "      <td>A61</td>\n",
       "      <td>A73</td>\n",
       "      <td>2</td>\n",
       "      <td>A92</td>\n",
       "      <td>A101</td>\n",
       "      <td>2</td>\n",
       "      <td>A121</td>\n",
       "      <td>22</td>\n",
       "      <td>A143</td>\n",
       "      <td>A152</td>\n",
       "      <td>1</td>\n",
       "      <td>A173</td>\n",
       "      <td>1</td>\n",
       "      <td>A191</td>\n",
       "      <td>A201</td>\n",
       "    </tr>\n",
       "    <tr>\n",
       "      <th>2</th>\n",
       "      <td>A14</td>\n",
       "      <td>12</td>\n",
       "      <td>A34</td>\n",
       "      <td>A46</td>\n",
       "      <td>2096</td>\n",
       "      <td>A61</td>\n",
       "      <td>A74</td>\n",
       "      <td>2</td>\n",
       "      <td>A93</td>\n",
       "      <td>A101</td>\n",
       "      <td>3</td>\n",
       "      <td>A121</td>\n",
       "      <td>49</td>\n",
       "      <td>A143</td>\n",
       "      <td>A152</td>\n",
       "      <td>1</td>\n",
       "      <td>A172</td>\n",
       "      <td>2</td>\n",
       "      <td>A191</td>\n",
       "      <td>A201</td>\n",
       "    </tr>\n",
       "    <tr>\n",
       "      <th>3</th>\n",
       "      <td>A11</td>\n",
       "      <td>42</td>\n",
       "      <td>A32</td>\n",
       "      <td>A42</td>\n",
       "      <td>7882</td>\n",
       "      <td>A61</td>\n",
       "      <td>A74</td>\n",
       "      <td>2</td>\n",
       "      <td>A93</td>\n",
       "      <td>A103</td>\n",
       "      <td>4</td>\n",
       "      <td>A122</td>\n",
       "      <td>45</td>\n",
       "      <td>A143</td>\n",
       "      <td>A153</td>\n",
       "      <td>1</td>\n",
       "      <td>A173</td>\n",
       "      <td>2</td>\n",
       "      <td>A191</td>\n",
       "      <td>A201</td>\n",
       "    </tr>\n",
       "    <tr>\n",
       "      <th>4</th>\n",
       "      <td>A11</td>\n",
       "      <td>24</td>\n",
       "      <td>A33</td>\n",
       "      <td>A40</td>\n",
       "      <td>4870</td>\n",
       "      <td>A61</td>\n",
       "      <td>A73</td>\n",
       "      <td>3</td>\n",
       "      <td>A93</td>\n",
       "      <td>A101</td>\n",
       "      <td>4</td>\n",
       "      <td>A124</td>\n",
       "      <td>53</td>\n",
       "      <td>A143</td>\n",
       "      <td>A153</td>\n",
       "      <td>2</td>\n",
       "      <td>A173</td>\n",
       "      <td>2</td>\n",
       "      <td>A191</td>\n",
       "      <td>A201</td>\n",
       "    </tr>\n",
       "    <tr>\n",
       "      <th>...</th>\n",
       "      <td>...</td>\n",
       "      <td>...</td>\n",
       "      <td>...</td>\n",
       "      <td>...</td>\n",
       "      <td>...</td>\n",
       "      <td>...</td>\n",
       "      <td>...</td>\n",
       "      <td>...</td>\n",
       "      <td>...</td>\n",
       "      <td>...</td>\n",
       "      <td>...</td>\n",
       "      <td>...</td>\n",
       "      <td>...</td>\n",
       "      <td>...</td>\n",
       "      <td>...</td>\n",
       "      <td>...</td>\n",
       "      <td>...</td>\n",
       "      <td>...</td>\n",
       "      <td>...</td>\n",
       "      <td>...</td>\n",
       "    </tr>\n",
       "    <tr>\n",
       "      <th>995</th>\n",
       "      <td>A14</td>\n",
       "      <td>12</td>\n",
       "      <td>A32</td>\n",
       "      <td>A42</td>\n",
       "      <td>1736</td>\n",
       "      <td>A61</td>\n",
       "      <td>A74</td>\n",
       "      <td>3</td>\n",
       "      <td>A92</td>\n",
       "      <td>A101</td>\n",
       "      <td>4</td>\n",
       "      <td>A121</td>\n",
       "      <td>31</td>\n",
       "      <td>A143</td>\n",
       "      <td>A152</td>\n",
       "      <td>1</td>\n",
       "      <td>A172</td>\n",
       "      <td>1</td>\n",
       "      <td>A191</td>\n",
       "      <td>A201</td>\n",
       "    </tr>\n",
       "    <tr>\n",
       "      <th>996</th>\n",
       "      <td>A11</td>\n",
       "      <td>30</td>\n",
       "      <td>A32</td>\n",
       "      <td>A41</td>\n",
       "      <td>3857</td>\n",
       "      <td>A61</td>\n",
       "      <td>A73</td>\n",
       "      <td>4</td>\n",
       "      <td>A91</td>\n",
       "      <td>A101</td>\n",
       "      <td>4</td>\n",
       "      <td>A122</td>\n",
       "      <td>40</td>\n",
       "      <td>A143</td>\n",
       "      <td>A152</td>\n",
       "      <td>1</td>\n",
       "      <td>A174</td>\n",
       "      <td>1</td>\n",
       "      <td>A192</td>\n",
       "      <td>A201</td>\n",
       "    </tr>\n",
       "    <tr>\n",
       "      <th>997</th>\n",
       "      <td>A14</td>\n",
       "      <td>12</td>\n",
       "      <td>A32</td>\n",
       "      <td>A43</td>\n",
       "      <td>804</td>\n",
       "      <td>A61</td>\n",
       "      <td>A75</td>\n",
       "      <td>4</td>\n",
       "      <td>A93</td>\n",
       "      <td>A101</td>\n",
       "      <td>4</td>\n",
       "      <td>A123</td>\n",
       "      <td>38</td>\n",
       "      <td>A143</td>\n",
       "      <td>A152</td>\n",
       "      <td>1</td>\n",
       "      <td>A173</td>\n",
       "      <td>1</td>\n",
       "      <td>A191</td>\n",
       "      <td>A201</td>\n",
       "    </tr>\n",
       "    <tr>\n",
       "      <th>998</th>\n",
       "      <td>A11</td>\n",
       "      <td>45</td>\n",
       "      <td>A32</td>\n",
       "      <td>A43</td>\n",
       "      <td>1845</td>\n",
       "      <td>A61</td>\n",
       "      <td>A73</td>\n",
       "      <td>4</td>\n",
       "      <td>A93</td>\n",
       "      <td>A101</td>\n",
       "      <td>4</td>\n",
       "      <td>A124</td>\n",
       "      <td>23</td>\n",
       "      <td>A143</td>\n",
       "      <td>A153</td>\n",
       "      <td>1</td>\n",
       "      <td>A173</td>\n",
       "      <td>1</td>\n",
       "      <td>A192</td>\n",
       "      <td>A201</td>\n",
       "    </tr>\n",
       "    <tr>\n",
       "      <th>999</th>\n",
       "      <td>A12</td>\n",
       "      <td>45</td>\n",
       "      <td>A34</td>\n",
       "      <td>A41</td>\n",
       "      <td>4576</td>\n",
       "      <td>A62</td>\n",
       "      <td>A71</td>\n",
       "      <td>3</td>\n",
       "      <td>A93</td>\n",
       "      <td>A101</td>\n",
       "      <td>4</td>\n",
       "      <td>A123</td>\n",
       "      <td>27</td>\n",
       "      <td>A143</td>\n",
       "      <td>A152</td>\n",
       "      <td>1</td>\n",
       "      <td>A173</td>\n",
       "      <td>1</td>\n",
       "      <td>A191</td>\n",
       "      <td>A201</td>\n",
       "    </tr>\n",
       "  </tbody>\n",
       "</table>\n",
       "<p>1000 rows × 20 columns</p>\n",
       "</div>"
      ],
      "text/plain": [
       "    Status_of_existing_checking_account  Duration_in_month Credit_history  \\\n",
       "0                                   A11                  6            A34   \n",
       "1                                   A12                 48            A32   \n",
       "2                                   A14                 12            A34   \n",
       "3                                   A11                 42            A32   \n",
       "4                                   A11                 24            A33   \n",
       "..                                  ...                ...            ...   \n",
       "995                                 A14                 12            A32   \n",
       "996                                 A11                 30            A32   \n",
       "997                                 A14                 12            A32   \n",
       "998                                 A11                 45            A32   \n",
       "999                                 A12                 45            A34   \n",
       "\n",
       "    Purpose  Credit_amount Savings_account employment_since  \\\n",
       "0       A43           1169             A65              A75   \n",
       "1       A43           5951             A61              A73   \n",
       "2       A46           2096             A61              A74   \n",
       "3       A42           7882             A61              A74   \n",
       "4       A40           4870             A61              A73   \n",
       "..      ...            ...             ...              ...   \n",
       "995     A42           1736             A61              A74   \n",
       "996     A41           3857             A61              A73   \n",
       "997     A43            804             A61              A75   \n",
       "998     A43           1845             A61              A73   \n",
       "999     A41           4576             A62              A71   \n",
       "\n",
       "     Installment_rate_of_disposable_income  Sex Other_debtors  \\\n",
       "0                                        4  A93          A101   \n",
       "1                                        2  A92          A101   \n",
       "2                                        2  A93          A101   \n",
       "3                                        2  A93          A103   \n",
       "4                                        3  A93          A101   \n",
       "..                                     ...  ...           ...   \n",
       "995                                      3  A92          A101   \n",
       "996                                      4  A91          A101   \n",
       "997                                      4  A93          A101   \n",
       "998                                      4  A93          A101   \n",
       "999                                      3  A93          A101   \n",
       "\n",
       "     Present_residence_since Property  Age Other_installment_plans Housing  \\\n",
       "0                          4     A121   67                    A143    A152   \n",
       "1                          2     A121   22                    A143    A152   \n",
       "2                          3     A121   49                    A143    A152   \n",
       "3                          4     A122   45                    A143    A153   \n",
       "4                          4     A124   53                    A143    A153   \n",
       "..                       ...      ...  ...                     ...     ...   \n",
       "995                        4     A121   31                    A143    A152   \n",
       "996                        4     A122   40                    A143    A152   \n",
       "997                        4     A123   38                    A143    A152   \n",
       "998                        4     A124   23                    A143    A153   \n",
       "999                        4     A123   27                    A143    A152   \n",
       "\n",
       "     Number_of_credits   Job  \\\n",
       "0                    2  A173   \n",
       "1                    1  A173   \n",
       "2                    1  A172   \n",
       "3                    1  A173   \n",
       "4                    2  A173   \n",
       "..                 ...   ...   \n",
       "995                  1  A172   \n",
       "996                  1  A174   \n",
       "997                  1  A173   \n",
       "998                  1  A173   \n",
       "999                  1  A173   \n",
       "\n",
       "     Number_of_people_being_liable_to_provide_maintenance Telephone  \\\n",
       "0                                                    1         A192   \n",
       "1                                                    1         A191   \n",
       "2                                                    2         A191   \n",
       "3                                                    2         A191   \n",
       "4                                                    2         A191   \n",
       "..                                                 ...          ...   \n",
       "995                                                  1         A191   \n",
       "996                                                  1         A192   \n",
       "997                                                  1         A191   \n",
       "998                                                  1         A192   \n",
       "999                                                  1         A191   \n",
       "\n",
       "    foreign_worker  \n",
       "0             A201  \n",
       "1             A201  \n",
       "2             A201  \n",
       "3             A201  \n",
       "4             A201  \n",
       "..             ...  \n",
       "995           A201  \n",
       "996           A201  \n",
       "997           A201  \n",
       "998           A201  \n",
       "999           A201  \n",
       "\n",
       "[1000 rows x 20 columns]"
      ]
     },
     "execution_count": 4,
     "metadata": {},
     "output_type": "execute_result"
    }
   ],
   "source": [
    "german_data"
   ]
  },
  {
   "cell_type": "markdown",
   "metadata": {},
   "source": [
    "## Preprcess\n"
   ]
  },
  {
   "cell_type": "code",
   "execution_count": 5,
   "metadata": {},
   "outputs": [],
   "source": [
    "dict_values = {\n",
    "        \"A11\" : \"min_0_DM\",\n",
    "        \"A12\" : \"in_0_200_DM\",\n",
    "        \"A13\" : \"mag_200_DM\",\n",
    "        \"A14\" : \"no_checking_account\",\n",
    "        \"A30\" : \"all_credits_paid_back\",\n",
    "        \"A31\" : \"all_credits_at_this_bank_paid_back\",\n",
    "        \"A32\" : \"existing_credits_paid_back_till_now\",\n",
    "        \"A33\" : \"delay_in_paying_off_in_the_past\",\n",
    "        \"A34\" : \"critical_account\",\n",
    "        \"A40\" : \"car_new\",\n",
    "        \"A41\" : \"car_used\",\n",
    "        \"A42\" : \"furniture\",\n",
    "        \"A43\" : \"radio_television\",\n",
    "        \"A44\" : \"domestic_appliances\",\n",
    "        \"A45\" : \"repairs\",\n",
    "        \"A46\" : \"education\",\n",
    "        \"A47\" : \"vacation\",\n",
    "        \"A48\" : \"retraining\",\n",
    "        \"A49\" : \"business\",\n",
    "        \"A410\" : \"others\",\n",
    "        \"A61\" : \"less_100_DM\",\n",
    "        \"A62\" : \"in_100_500_DM\",\n",
    "        \"A63\" : \"in_500_1000_DM\",\n",
    "        \"A64\" : \"more_1000_DM\",\n",
    "        \"A65\" : \"no_savings\",\n",
    "        \"A71\" : \"more_7_years\",\n",
    "        \"A72\" : \"in_4_7_years\",\n",
    "        \"A73\" : \"in_1_4_years\",\n",
    "        \"A74\" : \"less_1_year\",\n",
    "        \"A75\" : \"unemployed\",\n",
    "        \"A91\" : \"F\",\n",
    "        \"A92\" : \"M\",\n",
    "        \"A93\" : \"F\",\n",
    "        \"A94\" : \"F\",\n",
    "        \"A95\" : \"M\",\n",
    "        \"A101\" : \"none\",\n",
    "        \"A102\" : \"co_applicant\",\n",
    "        \"A103\" : \"guarantor\",\n",
    "        \"A121\" : \"real_estate\",\n",
    "        \"A122\" : \"society\",\n",
    "        \"A123\" : \"car\",\n",
    "        \"A124\" : \"no_property\",\n",
    "        \"A141\" : \"bank\",\n",
    "        \"A142\" : \"stores\",\n",
    "        \"A143\" : \"none\",\n",
    "        \"A151\" : \"rent\",\n",
    "        \"A152\" : \"own\",\n",
    "        \"A153\" : \"for_free\",\n",
    "        \"A171\" : \"self-employed\",\n",
    "        \"A172\" : \"skilled_employee\",\n",
    "        \"A173\" : \"unskilled\",\n",
    "        \"A174\" : \"manager\",\n",
    "        \"A191\" : \"none\",\n",
    "        \"A192\" : \"yes\",\n",
    "        \"A201\" : \"no\",\n",
    "        \"A202\" : \"yes\"\n",
    "}\n"
   ]
  },
  {
   "cell_type": "code",
   "execution_count": 6,
   "metadata": {},
   "outputs": [
    {
     "data": {
      "text/html": [
       "<div>\n",
       "<style scoped>\n",
       "    .dataframe tbody tr th:only-of-type {\n",
       "        vertical-align: middle;\n",
       "    }\n",
       "\n",
       "    .dataframe tbody tr th {\n",
       "        vertical-align: top;\n",
       "    }\n",
       "\n",
       "    .dataframe thead th {\n",
       "        text-align: right;\n",
       "    }\n",
       "</style>\n",
       "<table border=\"1\" class=\"dataframe\">\n",
       "  <thead>\n",
       "    <tr style=\"text-align: right;\">\n",
       "      <th></th>\n",
       "      <th>Status_of_existing_checking_account</th>\n",
       "      <th>Duration_in_month</th>\n",
       "      <th>Credit_history</th>\n",
       "      <th>Purpose</th>\n",
       "      <th>Credit_amount</th>\n",
       "      <th>Savings_account</th>\n",
       "      <th>employment_since</th>\n",
       "      <th>Installment_rate_of_disposable_income</th>\n",
       "      <th>Sex</th>\n",
       "      <th>Other_debtors</th>\n",
       "      <th>Present_residence_since</th>\n",
       "      <th>Property</th>\n",
       "      <th>Age</th>\n",
       "      <th>Other_installment_plans</th>\n",
       "      <th>Housing</th>\n",
       "      <th>Number_of_credits</th>\n",
       "      <th>Job</th>\n",
       "      <th>Number_of_people_being_liable_to_provide_maintenance</th>\n",
       "      <th>Telephone</th>\n",
       "      <th>foreign_worker</th>\n",
       "    </tr>\n",
       "  </thead>\n",
       "  <tbody>\n",
       "    <tr>\n",
       "      <th>0</th>\n",
       "      <td>min_0_DM</td>\n",
       "      <td>6</td>\n",
       "      <td>critical_account</td>\n",
       "      <td>radio_television</td>\n",
       "      <td>1169</td>\n",
       "      <td>no_savings</td>\n",
       "      <td>unemployed</td>\n",
       "      <td>4</td>\n",
       "      <td>F</td>\n",
       "      <td>none</td>\n",
       "      <td>4</td>\n",
       "      <td>real_estate</td>\n",
       "      <td>67</td>\n",
       "      <td>none</td>\n",
       "      <td>own</td>\n",
       "      <td>2</td>\n",
       "      <td>unskilled</td>\n",
       "      <td>1</td>\n",
       "      <td>yes</td>\n",
       "      <td>no</td>\n",
       "    </tr>\n",
       "    <tr>\n",
       "      <th>1</th>\n",
       "      <td>in_0_200_DM</td>\n",
       "      <td>48</td>\n",
       "      <td>existing_credits_paid_back_till_now</td>\n",
       "      <td>radio_television</td>\n",
       "      <td>5951</td>\n",
       "      <td>less_100_DM</td>\n",
       "      <td>in_1_4_years</td>\n",
       "      <td>2</td>\n",
       "      <td>M</td>\n",
       "      <td>none</td>\n",
       "      <td>2</td>\n",
       "      <td>real_estate</td>\n",
       "      <td>22</td>\n",
       "      <td>none</td>\n",
       "      <td>own</td>\n",
       "      <td>1</td>\n",
       "      <td>unskilled</td>\n",
       "      <td>1</td>\n",
       "      <td>none</td>\n",
       "      <td>no</td>\n",
       "    </tr>\n",
       "    <tr>\n",
       "      <th>2</th>\n",
       "      <td>no_checking_account</td>\n",
       "      <td>12</td>\n",
       "      <td>critical_account</td>\n",
       "      <td>education</td>\n",
       "      <td>2096</td>\n",
       "      <td>less_100_DM</td>\n",
       "      <td>less_1_year</td>\n",
       "      <td>2</td>\n",
       "      <td>F</td>\n",
       "      <td>none</td>\n",
       "      <td>3</td>\n",
       "      <td>real_estate</td>\n",
       "      <td>49</td>\n",
       "      <td>none</td>\n",
       "      <td>own</td>\n",
       "      <td>1</td>\n",
       "      <td>skilled_employee</td>\n",
       "      <td>2</td>\n",
       "      <td>none</td>\n",
       "      <td>no</td>\n",
       "    </tr>\n",
       "    <tr>\n",
       "      <th>3</th>\n",
       "      <td>min_0_DM</td>\n",
       "      <td>42</td>\n",
       "      <td>existing_credits_paid_back_till_now</td>\n",
       "      <td>furniture</td>\n",
       "      <td>7882</td>\n",
       "      <td>less_100_DM</td>\n",
       "      <td>less_1_year</td>\n",
       "      <td>2</td>\n",
       "      <td>F</td>\n",
       "      <td>guarantor</td>\n",
       "      <td>4</td>\n",
       "      <td>society</td>\n",
       "      <td>45</td>\n",
       "      <td>none</td>\n",
       "      <td>for_free</td>\n",
       "      <td>1</td>\n",
       "      <td>unskilled</td>\n",
       "      <td>2</td>\n",
       "      <td>none</td>\n",
       "      <td>no</td>\n",
       "    </tr>\n",
       "    <tr>\n",
       "      <th>4</th>\n",
       "      <td>min_0_DM</td>\n",
       "      <td>24</td>\n",
       "      <td>delay_in_paying_off_in_the_past</td>\n",
       "      <td>car_new</td>\n",
       "      <td>4870</td>\n",
       "      <td>less_100_DM</td>\n",
       "      <td>in_1_4_years</td>\n",
       "      <td>3</td>\n",
       "      <td>F</td>\n",
       "      <td>none</td>\n",
       "      <td>4</td>\n",
       "      <td>no_property</td>\n",
       "      <td>53</td>\n",
       "      <td>none</td>\n",
       "      <td>for_free</td>\n",
       "      <td>2</td>\n",
       "      <td>unskilled</td>\n",
       "      <td>2</td>\n",
       "      <td>none</td>\n",
       "      <td>no</td>\n",
       "    </tr>\n",
       "    <tr>\n",
       "      <th>...</th>\n",
       "      <td>...</td>\n",
       "      <td>...</td>\n",
       "      <td>...</td>\n",
       "      <td>...</td>\n",
       "      <td>...</td>\n",
       "      <td>...</td>\n",
       "      <td>...</td>\n",
       "      <td>...</td>\n",
       "      <td>...</td>\n",
       "      <td>...</td>\n",
       "      <td>...</td>\n",
       "      <td>...</td>\n",
       "      <td>...</td>\n",
       "      <td>...</td>\n",
       "      <td>...</td>\n",
       "      <td>...</td>\n",
       "      <td>...</td>\n",
       "      <td>...</td>\n",
       "      <td>...</td>\n",
       "      <td>...</td>\n",
       "    </tr>\n",
       "    <tr>\n",
       "      <th>995</th>\n",
       "      <td>no_checking_account</td>\n",
       "      <td>12</td>\n",
       "      <td>existing_credits_paid_back_till_now</td>\n",
       "      <td>furniture</td>\n",
       "      <td>1736</td>\n",
       "      <td>less_100_DM</td>\n",
       "      <td>less_1_year</td>\n",
       "      <td>3</td>\n",
       "      <td>M</td>\n",
       "      <td>none</td>\n",
       "      <td>4</td>\n",
       "      <td>real_estate</td>\n",
       "      <td>31</td>\n",
       "      <td>none</td>\n",
       "      <td>own</td>\n",
       "      <td>1</td>\n",
       "      <td>skilled_employee</td>\n",
       "      <td>1</td>\n",
       "      <td>none</td>\n",
       "      <td>no</td>\n",
       "    </tr>\n",
       "    <tr>\n",
       "      <th>996</th>\n",
       "      <td>min_0_DM</td>\n",
       "      <td>30</td>\n",
       "      <td>existing_credits_paid_back_till_now</td>\n",
       "      <td>car_used</td>\n",
       "      <td>3857</td>\n",
       "      <td>less_100_DM</td>\n",
       "      <td>in_1_4_years</td>\n",
       "      <td>4</td>\n",
       "      <td>F</td>\n",
       "      <td>none</td>\n",
       "      <td>4</td>\n",
       "      <td>society</td>\n",
       "      <td>40</td>\n",
       "      <td>none</td>\n",
       "      <td>own</td>\n",
       "      <td>1</td>\n",
       "      <td>manager</td>\n",
       "      <td>1</td>\n",
       "      <td>yes</td>\n",
       "      <td>no</td>\n",
       "    </tr>\n",
       "    <tr>\n",
       "      <th>997</th>\n",
       "      <td>no_checking_account</td>\n",
       "      <td>12</td>\n",
       "      <td>existing_credits_paid_back_till_now</td>\n",
       "      <td>radio_television</td>\n",
       "      <td>804</td>\n",
       "      <td>less_100_DM</td>\n",
       "      <td>unemployed</td>\n",
       "      <td>4</td>\n",
       "      <td>F</td>\n",
       "      <td>none</td>\n",
       "      <td>4</td>\n",
       "      <td>car</td>\n",
       "      <td>38</td>\n",
       "      <td>none</td>\n",
       "      <td>own</td>\n",
       "      <td>1</td>\n",
       "      <td>unskilled</td>\n",
       "      <td>1</td>\n",
       "      <td>none</td>\n",
       "      <td>no</td>\n",
       "    </tr>\n",
       "    <tr>\n",
       "      <th>998</th>\n",
       "      <td>min_0_DM</td>\n",
       "      <td>45</td>\n",
       "      <td>existing_credits_paid_back_till_now</td>\n",
       "      <td>radio_television</td>\n",
       "      <td>1845</td>\n",
       "      <td>less_100_DM</td>\n",
       "      <td>in_1_4_years</td>\n",
       "      <td>4</td>\n",
       "      <td>F</td>\n",
       "      <td>none</td>\n",
       "      <td>4</td>\n",
       "      <td>no_property</td>\n",
       "      <td>23</td>\n",
       "      <td>none</td>\n",
       "      <td>for_free</td>\n",
       "      <td>1</td>\n",
       "      <td>unskilled</td>\n",
       "      <td>1</td>\n",
       "      <td>yes</td>\n",
       "      <td>no</td>\n",
       "    </tr>\n",
       "    <tr>\n",
       "      <th>999</th>\n",
       "      <td>in_0_200_DM</td>\n",
       "      <td>45</td>\n",
       "      <td>critical_account</td>\n",
       "      <td>car_used</td>\n",
       "      <td>4576</td>\n",
       "      <td>in_100_500_DM</td>\n",
       "      <td>more_7_years</td>\n",
       "      <td>3</td>\n",
       "      <td>F</td>\n",
       "      <td>none</td>\n",
       "      <td>4</td>\n",
       "      <td>car</td>\n",
       "      <td>27</td>\n",
       "      <td>none</td>\n",
       "      <td>own</td>\n",
       "      <td>1</td>\n",
       "      <td>unskilled</td>\n",
       "      <td>1</td>\n",
       "      <td>none</td>\n",
       "      <td>no</td>\n",
       "    </tr>\n",
       "  </tbody>\n",
       "</table>\n",
       "<p>1000 rows × 20 columns</p>\n",
       "</div>"
      ],
      "text/plain": [
       "    Status_of_existing_checking_account  Duration_in_month  \\\n",
       "0                              min_0_DM                  6   \n",
       "1                           in_0_200_DM                 48   \n",
       "2                   no_checking_account                 12   \n",
       "3                              min_0_DM                 42   \n",
       "4                              min_0_DM                 24   \n",
       "..                                  ...                ...   \n",
       "995                 no_checking_account                 12   \n",
       "996                            min_0_DM                 30   \n",
       "997                 no_checking_account                 12   \n",
       "998                            min_0_DM                 45   \n",
       "999                         in_0_200_DM                 45   \n",
       "\n",
       "                          Credit_history           Purpose  Credit_amount  \\\n",
       "0                       critical_account  radio_television           1169   \n",
       "1    existing_credits_paid_back_till_now  radio_television           5951   \n",
       "2                       critical_account         education           2096   \n",
       "3    existing_credits_paid_back_till_now         furniture           7882   \n",
       "4        delay_in_paying_off_in_the_past           car_new           4870   \n",
       "..                                   ...               ...            ...   \n",
       "995  existing_credits_paid_back_till_now         furniture           1736   \n",
       "996  existing_credits_paid_back_till_now          car_used           3857   \n",
       "997  existing_credits_paid_back_till_now  radio_television            804   \n",
       "998  existing_credits_paid_back_till_now  radio_television           1845   \n",
       "999                     critical_account          car_used           4576   \n",
       "\n",
       "    Savings_account employment_since  Installment_rate_of_disposable_income  \\\n",
       "0        no_savings       unemployed                                      4   \n",
       "1       less_100_DM     in_1_4_years                                      2   \n",
       "2       less_100_DM      less_1_year                                      2   \n",
       "3       less_100_DM      less_1_year                                      2   \n",
       "4       less_100_DM     in_1_4_years                                      3   \n",
       "..              ...              ...                                    ...   \n",
       "995     less_100_DM      less_1_year                                      3   \n",
       "996     less_100_DM     in_1_4_years                                      4   \n",
       "997     less_100_DM       unemployed                                      4   \n",
       "998     less_100_DM     in_1_4_years                                      4   \n",
       "999   in_100_500_DM     more_7_years                                      3   \n",
       "\n",
       "    Sex Other_debtors  Present_residence_since     Property  Age  \\\n",
       "0     F          none                        4  real_estate   67   \n",
       "1     M          none                        2  real_estate   22   \n",
       "2     F          none                        3  real_estate   49   \n",
       "3     F     guarantor                        4      society   45   \n",
       "4     F          none                        4  no_property   53   \n",
       "..   ..           ...                      ...          ...  ...   \n",
       "995   M          none                        4  real_estate   31   \n",
       "996   F          none                        4      society   40   \n",
       "997   F          none                        4          car   38   \n",
       "998   F          none                        4  no_property   23   \n",
       "999   F          none                        4          car   27   \n",
       "\n",
       "    Other_installment_plans   Housing  Number_of_credits               Job  \\\n",
       "0                      none       own                  2         unskilled   \n",
       "1                      none       own                  1         unskilled   \n",
       "2                      none       own                  1  skilled_employee   \n",
       "3                      none  for_free                  1         unskilled   \n",
       "4                      none  for_free                  2         unskilled   \n",
       "..                      ...       ...                ...               ...   \n",
       "995                    none       own                  1  skilled_employee   \n",
       "996                    none       own                  1           manager   \n",
       "997                    none       own                  1         unskilled   \n",
       "998                    none  for_free                  1         unskilled   \n",
       "999                    none       own                  1         unskilled   \n",
       "\n",
       "     Number_of_people_being_liable_to_provide_maintenance Telephone  \\\n",
       "0                                                    1          yes   \n",
       "1                                                    1         none   \n",
       "2                                                    2         none   \n",
       "3                                                    2         none   \n",
       "4                                                    2         none   \n",
       "..                                                 ...          ...   \n",
       "995                                                  1         none   \n",
       "996                                                  1          yes   \n",
       "997                                                  1         none   \n",
       "998                                                  1          yes   \n",
       "999                                                  1         none   \n",
       "\n",
       "    foreign_worker  \n",
       "0               no  \n",
       "1               no  \n",
       "2               no  \n",
       "3               no  \n",
       "4               no  \n",
       "..             ...  \n",
       "995             no  \n",
       "996             no  \n",
       "997             no  \n",
       "998             no  \n",
       "999             no  \n",
       "\n",
       "[1000 rows x 20 columns]"
      ]
     },
     "execution_count": 6,
     "metadata": {},
     "output_type": "execute_result"
    }
   ],
   "source": [
    "german_data = german_data.replace({\"Status_of_existing_checking_account\": dict_values,\n",
    "                                  \"Credit_history\": dict_values,\n",
    "                                  \"Purpose\": dict_values,\n",
    "                                  \"Savings_account\": dict_values,\n",
    "                                  \"employment_since\": dict_values,\n",
    "                                  \"Sex\": dict_values,\n",
    "                                  \"Other_debtors\": dict_values,\n",
    "                                  \"Property\": dict_values,\n",
    "                                  \"Other_installment_plans\": dict_values,\n",
    "                                  \"Housing\": dict_values,\n",
    "                                  \"Job\": dict_values,\n",
    "                                  \"Telephone\": dict_values,\n",
    "                                  \"foreign_worker\": dict_values})\n",
    "german_data"
   ]
  },
  {
   "cell_type": "code",
   "execution_count": 7,
   "metadata": {},
   "outputs": [],
   "source": [
    "german_data['Target'] = np.where(german_data['Credit_history'] == \"critical_account\", 1, 0)\n",
    "german_data=german_data.drop(columns=['Credit_history','Telephone'])"
   ]
  },
  {
   "cell_type": "code",
   "execution_count": 8,
   "metadata": {},
   "outputs": [
    {
     "data": {
      "text/plain": [
       "0    707\n",
       "1    293\n",
       "Name: Target, dtype: int64"
      ]
     },
     "execution_count": 8,
     "metadata": {},
     "output_type": "execute_result"
    }
   ],
   "source": [
    "german_data['Target'].value_counts()"
   ]
  },
  {
   "cell_type": "markdown",
   "metadata": {},
   "source": [
    "## Train the model\n",
    "\n",
    "create a pipeline model\n",
    "- numerical_transformer pipeline:\n",
    "\n",
    "- numerical_features: choose numerical features to transform\n",
    "- impute missing data with median strategy\n",
    "- scale numerical features with standard scaler\n",
    "- categorical_transformer pipeline:\n",
    "\n",
    "- categorical_features: choose categorical features to transform\n",
    "- impute missing data with 'missing' string\n",
    "- encode categorical features with one-hot\n",
    "- aggregate those two pipelines into a preprocessor using ColumnTransformer\n",
    "\n",
    "make a basic classifier model using MLPClassifier - it has 4 hidden layers with sizes 150, 100, 50 respectively\n",
    "construct a clf pipeline model, which combines the preprocessor with the basic classifier model"
   ]
  },
  {
   "cell_type": "code",
   "execution_count": 249,
   "metadata": {},
   "outputs": [],
   "source": [
    "X = german_data.drop('Target',axis=1)\n",
    "y = german_data['Target']\n",
    "X_train, X_test, y_train, y_test = train_test_split(X, y, test_size=0.6, random_state=1)"
   ]
  },
  {
   "cell_type": "code",
   "execution_count": 250,
   "metadata": {},
   "outputs": [],
   "source": [
    "numerical_features = ['Duration_in_month', 'Credit_amount', 'Installment_rate_of_disposable_income', 'Present_residence_since',\n",
    "                     'Age','Number_of_credits','Number_of_people_being_liable_to_provide_maintenance']\n",
    "numerical_transformer = Pipeline(\n",
    "    steps=[\n",
    "        ('imputer', SimpleImputer(strategy='median')),\n",
    "        ('scaler', StandardScaler())\n",
    "    ]\n",
    ")\n",
    "\n",
    "categorical_features = ['Status_of_existing_checking_account', 'Purpose','Savings_account','employment_since',\n",
    "                       'Sex','Other_debtors','Property','Other_installment_plans','Housing','Job',\n",
    "                       'foreign_worker']\n",
    "categorical_transformer = Pipeline(\n",
    "    steps=[\n",
    "        ('imputer', SimpleImputer(strategy='constant', fill_value='missing')),\n",
    "        ('onehot', OneHotEncoder(handle_unknown='ignore'))\n",
    "    ]\n",
    ")\n",
    "\n",
    "preprocessor = ColumnTransformer(\n",
    "    transformers=[\n",
    "        ('num', numerical_transformer, numerical_features),\n",
    "        ('cat', categorical_transformer, categorical_features)\n",
    "    ]\n",
    ")\n",
    "\n",
    "classifier = MLPClassifier(hidden_layer_sizes=(150,100,50), max_iter=500, random_state=1234)\n",
    "\n",
    "clf = Pipeline(steps=[('preprocessor', preprocessor),\n",
    "                      ('classifier', classifier)])"
   ]
  },
  {
   "cell_type": "code",
   "execution_count": 251,
   "metadata": {},
   "outputs": [
    {
     "data": {
      "text/plain": [
       "Pipeline(memory=None,\n",
       "         steps=[('preprocessor',\n",
       "                 ColumnTransformer(n_jobs=None, remainder='drop',\n",
       "                                   sparse_threshold=0.3,\n",
       "                                   transformer_weights=None,\n",
       "                                   transformers=[('num',\n",
       "                                                  Pipeline(memory=None,\n",
       "                                                           steps=[('imputer',\n",
       "                                                                   SimpleImputer(add_indicator=False,\n",
       "                                                                                 copy=True,\n",
       "                                                                                 fill_value=None,\n",
       "                                                                                 missing_values=nan,\n",
       "                                                                                 strategy='median',\n",
       "                                                                                 verbose=0)),\n",
       "                                                                  ('scaler',\n",
       "                                                                   StandardScaler(copy=True,\n",
       "                                                                                  with_mean...\n",
       "                               batch_size='auto', beta_1=0.9, beta_2=0.999,\n",
       "                               early_stopping=False, epsilon=1e-08,\n",
       "                               hidden_layer_sizes=(150, 100, 50),\n",
       "                               learning_rate='constant',\n",
       "                               learning_rate_init=0.001, max_fun=15000,\n",
       "                               max_iter=500, momentum=0.9, n_iter_no_change=10,\n",
       "                               nesterovs_momentum=True, power_t=0.5,\n",
       "                               random_state=1234, shuffle=True, solver='adam',\n",
       "                               tol=0.0001, validation_fraction=0.1,\n",
       "                               verbose=False, warm_start=False))],\n",
       "         verbose=False)"
      ]
     },
     "execution_count": 251,
     "metadata": {},
     "output_type": "execute_result"
    }
   ],
   "source": [
    "clf.fit(X_train,y_train)"
   ]
  },
  {
   "cell_type": "code",
   "execution_count": 252,
   "metadata": {},
   "outputs": [],
   "source": [
    "prediction_clf = clf.predict_proba(X_test)[:,1]"
   ]
  },
  {
   "cell_type": "code",
   "execution_count": 254,
   "metadata": {},
   "outputs": [
    {
     "name": "stdout",
     "output_type": "stream",
     "text": [
      "ROC: 0.8010612476761\n"
     ]
    }
   ],
   "source": [
    "print(\"ROC:\",roc_auc_score(y_test, prediction_clf))"
   ]
  },
  {
   "cell_type": "code",
   "execution_count": 179,
   "metadata": {},
   "outputs": [
    {
     "data": {
      "text/plain": [
       "Text(0.5, 0, 'Prediction')"
      ]
     },
     "execution_count": 179,
     "metadata": {},
     "output_type": "execute_result"
    },
    {
     "data": {
      "image/png": "[encoded data removed]",
      "text/plain": [
       "<Figure size 432x288 with 1 Axes>"
      ]
     },
     "metadata": {},
     "output_type": "display_data"
    }
   ],
   "source": [
    "import seaborn as sns\n",
    "sns.set(style=\"whitegrid\")\n",
    "ax = sns.boxplot(x=prediction_clf,y=y_test.astype('category'))\n",
    "ax.set_xlabel('Prediction')"
   ]
  },
  {
   "cell_type": "markdown",
   "metadata": {},
   "source": [
    "## EXPLAIN THE RESULTS"
   ]
  },
  {
   "cell_type": "code",
   "execution_count": 15,
   "metadata": {},
   "outputs": [
    {
     "name": "stdout",
     "output_type": "stream",
     "text": [
      "Preparation of a new explainer is initiated\n",
      "\n",
      "  -> data              : 1000 rows 18 cols\n",
      "  -> target variable   : Argument 'y' was a pandas.Series. Converted to a numpy.ndarray.\n",
      "  -> target variable   : 1000 values\n",
      "  -> model_class       : sklearn.pipeline.Pipeline (default)\n",
      "  -> label             : Credit Risk MLP Pipeline\n",
      "  -> predict function  : <function yhat_proba_default at 0x0000026315BFB168> will be used (default)\n",
      "  -> predicted values  : min = 1.2539942732965242e-15, mean = 0.23491131054737718, max = 0.9999999829123459\n",
      "  -> residual function : difference between y and yhat (default)\n",
      "  -> residuals         : min = -0.9999633296270777, mean = 0.058088689452622806, max = 0.9999999999989152\n",
      "  -> model_info        : package sklearn\n",
      "\n",
      "A new explainer has been created!\n"
     ]
    }
   ],
   "source": [
    "exp = dx.Explainer(clf, X, y, label = \"Credit Risk MLP Pipeline\")"
   ]
  },
  {
   "cell_type": "code",
   "execution_count": 157,
   "metadata": {},
   "outputs": [],
   "source": [
    "idx3 = np.where((prediction_clf>0.90) & (y_test==1))[0][0] #True Positive\n",
    "idx4 = np.where((prediction_clf>0.90) & (y_test==0))[0][0] #False Positive"
   ]
  },
  {
   "cell_type": "code",
   "execution_count": 158,
   "metadata": {},
   "outputs": [],
   "source": [
    "TPcase = X_test.iloc[[idx3]]\n",
    "FPcase = X_test.iloc[[idx4]]"
   ]
  },
  {
   "cell_type": "markdown",
   "metadata": {},
   "source": [
    "### Explain instances\n",
    "'break_down'\n",
    "\n",
    "'break_down_interactions'\n",
    "\n",
    "'shap'\n",
    "\n",
    "This function calculates Variable Attributions as Break Down (https://pbiecek.github.io/ema/breakDown.html) or Shapley Values explanations (https://pbiecek.github.io/ema/shapley.html).\n",
    "\n",
    "Model prediction is decomposed into parts that are attributed for particular variables."
   ]
  },
  {
   "cell_type": "code",
   "execution_count": 171,
   "metadata": {},
   "outputs": [
    {
     "name": "stdout",
     "output_type": "stream",
     "text": [
      "true value: 1\n",
      "prediction: 0.9993537493706607\n"
     ]
    },
    {
     "data": {
      "application/vnd.plotly.v1+json": {
       "config": {
        "displaylogo": false,
        "modeBarButtonsToRemove": [
         "sendDataToCloud",
         "lasso2d",
         "autoScale2d",
         "select2d",
         "zoom2d",
         "pan2d",
         "zoomIn2d",
         "zoomOut2d",
         "resetScale2d",
         "toggleSpikelines",
         "hoverCompareCartesian",
         "hoverClosestCartesian"
        ],
        "plotlyServerURL": "https://plot.ly",
        "staticPlot": false
       },
       "data": [
        {
         "base": 0.2353752082544801,
         "hoverinfo": "text",
         "hoverlabel": {
          "bgcolor": "rgba(0,0,0,0.8)"
         },
         "hovertext": [
          "Average response: 0.235<br>Prediction: 0.999<br>Savings_account = less_100_DM<br>increases average response <br>by 0.104",
          "Average response: 0.235<br>Prediction: 0.999<br>Sex = F<br>increases average response <br>by 0.09",
          "Average response: 0.235<br>Prediction: 0.999<br>employment_since = unemployed<br>increases average response <br>by 0.071",
          "Average response: 0.235<br>Prediction: 0.999<br>Number_of_people_being_liable_to_provide_maintenance = 1.0<br>increases average response <br>by 0.07",
          "Average response: 0.235<br>Prediction: 0.999<br>Installment_rate_of_disposable_income = 2.0<br>increases average response <br>by 0.062",
          "Average response: 0.235<br>Prediction: 0.999<br>Number_of_credits = 3.0<br>increases average response <br>by 0.056",
          "Average response: 0.235<br>Prediction: 0.999<br>Housing = for_free<br>increases average response <br>by 0.051",
          "Average response: 0.235<br>Prediction: 0.999<br>Present_residence_since = 4.0<br>increases average response <br>by 0.045",
          "Average response: 0.235<br>Prediction: 0.999<br>Job = manager<br>increases average response <br>by 0.043",
          "Average response: 0.235<br>Prediction: 0.999<br>+ all other factors<br>increases average response <br>by 0.168"
         ],
         "marker": {
          "color": [
           "#8bdcbe",
           "#8bdcbe",
           "#8bdcbe",
           "#8bdcbe",
           "#8bdcbe",
           "#8bdcbe",
           "#8bdcbe",
           "#8bdcbe",
           "#8bdcbe",
           "#8bdcbe"
          ]
         },
         "orientation": "h",
         "showlegend": false,
         "text": [
          "+0.104",
          "+0.09",
          "+0.071",
          "+0.07",
          "+0.062",
          "+0.056",
          "+0.051",
          "+0.045",
          "+0.043",
          "+0.168"
         ],
         "textposition": "outside",
         "type": "bar",
         "x": [
          0.104,
          0.09,
          0.071,
          0.07,
          0.062,
          0.056,
          0.051,
          0.045,
          0.043,
          0.168
         ],
         "xaxis": "x",
         "y": [
          "Savings_account = less_100_DM",
          "Sex = F",
          "employment_since = unemployed",
          "Number_of_people_being_liable_to_provide_maintenance = 1.0",
          "Installment_rate_of_disposable_income = 2.0",
          "Number_of_credits = 3.0",
          "Housing = for_free",
          "Present_residence_since = 4.0",
          "Job = manager",
          "+ all other factors"
         ],
         "yaxis": "y"
        }
       ],
       "layout": {
        "annotations": [
         {
          "font": {
           "size": 16
          },
          "showarrow": false,
          "text": "True Positive Case",
          "x": 0.5,
          "xanchor": "center",
          "xref": "paper",
          "y": 1,
          "yanchor": "bottom",
          "yref": "paper"
         },
         {
          "font": {
           "size": 16
          },
          "showarrow": false,
          "text": "contribution",
          "x": 0.5,
          "xanchor": "center",
          "xref": "paper",
          "y": 0,
          "yanchor": "top",
          "yref": "paper",
          "yshift": -30
         }
        ],
        "font": {
         "color": "#371ea3"
        },
        "height": 373,
        "margin": {
         "b": 71,
         "r": 30,
         "t": 78
        },
        "shapes": [
         {
          "line": {
           "color": "#371ea3",
           "dash": "dot",
           "width": 1.5
          },
          "type": "line",
          "x0": 0.2353752082544801,
          "x1": 0.2353752082544801,
          "xref": "x",
          "y0": 0,
          "y1": 10,
          "yref": "y"
         }
        ],
        "template": {
         "data": {
          "scatter": [
           {
            "type": "scatter"
           }
          ]
         }
        },
        "title": {
         "text": "Shapley Values",
         "x": 0.15
        },
        "xaxis": {
         "anchor": "y",
         "automargin": true,
         "domain": [
          0,
          1
         ],
         "fixedrange": true,
         "gridwidth": 2,
         "range": [
          0.2596252082544801,
          0.42212520825448013
         ],
         "tickcolor": "white",
         "ticklen": 3,
         "ticks": "outside",
         "type": "linear",
         "zeroline": false
        },
        "yaxis": {
         "anchor": "x",
         "automargin": true,
         "autorange": "reversed",
         "domain": [
          0,
          1
         ],
         "fixedrange": true,
         "gridwidth": 2,
         "tickcolor": "white",
         "ticklen": 10,
         "ticks": "outside",
         "type": "category"
        }
       }
      },
      "text/html": [
       "<div>\n",
       "        \n",
       "        \n",
       "            <div id=\"e8d2f2c7-1383-499f-91eb-571fd00f4dde\" class=\"plotly-graph-div\" style=\"height:373.0px; width:100%;\"></div>\n",
       "            <script type=\"text/javascript\">\n",
       "                require([\"plotly\"], function(Plotly) {\n",
       "                    window.PLOTLYENV=window.PLOTLYENV || {};\n",
       "                    \n",
       "                if (document.getElementById(\"e8d2f2c7-1383-499f-91eb-571fd00f4dde\")) {\n",
       "                    Plotly.newPlot(\n",
       "                        'e8d2f2c7-1383-499f-91eb-571fd00f4dde',\n",
       "                        [{\"base\": 0.2353752082544801, \"hoverinfo\": \"text\", \"hoverlabel\": {\"bgcolor\": \"rgba(0,0,0,0.8)\"}, \"hovertext\": [\"Average response: 0.235<br>Prediction: 0.999<br>Savings_account = less_100_DM<br>increases average response <br>by 0.104\", \"Average response: 0.235<br>Prediction: 0.999<br>Sex = F<br>increases average response <br>by 0.09\", \"Average response: 0.235<br>Prediction: 0.999<br>employment_since = unemployed<br>increases average response <br>by 0.071\", \"Average response: 0.235<br>Prediction: 0.999<br>Number_of_people_being_liable_to_provide_maintenance = 1.0<br>increases average response <br>by 0.07\", \"Average response: 0.235<br>Prediction: 0.999<br>Installment_rate_of_disposable_income = 2.0<br>increases average response <br>by 0.062\", \"Average response: 0.235<br>Prediction: 0.999<br>Number_of_credits = 3.0<br>increases average response <br>by 0.056\", \"Average response: 0.235<br>Prediction: 0.999<br>Housing = for_free<br>increases average response <br>by 0.051\", \"Average response: 0.235<br>Prediction: 0.999<br>Present_residence_since = 4.0<br>increases average response <br>by 0.045\", \"Average response: 0.235<br>Prediction: 0.999<br>Job = manager<br>increases average response <br>by 0.043\", \"Average response: 0.235<br>Prediction: 0.999<br>+ all other factors<br>increases average response <br>by 0.168\"], \"marker\": {\"color\": [\"#8bdcbe\", \"#8bdcbe\", \"#8bdcbe\", \"#8bdcbe\", \"#8bdcbe\", \"#8bdcbe\", \"#8bdcbe\", \"#8bdcbe\", \"#8bdcbe\", \"#8bdcbe\"]}, \"orientation\": \"h\", \"showlegend\": false, \"text\": [\"+0.104\", \"+0.09\", \"+0.071\", \"+0.07\", \"+0.062\", \"+0.056\", \"+0.051\", \"+0.045\", \"+0.043\", \"+0.168\"], \"textposition\": \"outside\", \"type\": \"bar\", \"x\": [0.104, 0.09, 0.071, 0.07, 0.062, 0.056, 0.051, 0.045, 0.043, 0.168], \"xaxis\": \"x\", \"y\": [\"Savings_account = less_100_DM\", \"Sex = F\", \"employment_since = unemployed\", \"Number_of_people_being_liable_to_provide_maintenance = 1.0\", \"Installment_rate_of_disposable_income = 2.0\", \"Number_of_credits = 3.0\", \"Housing = for_free\", \"Present_residence_since = 4.0\", \"Job = manager\", \"+ all other factors\"], \"yaxis\": \"y\"}],\n",
       "                        {\"annotations\": [{\"font\": {\"size\": 16}, \"showarrow\": false, \"text\": \"True Positive Case\", \"x\": 0.5, \"xanchor\": \"center\", \"xref\": \"paper\", \"y\": 1.0, \"yanchor\": \"bottom\", \"yref\": \"paper\"}, {\"font\": {\"size\": 16}, \"showarrow\": false, \"text\": \"contribution\", \"x\": 0.5, \"xanchor\": \"center\", \"xref\": \"paper\", \"y\": 0, \"yanchor\": \"top\", \"yref\": \"paper\", \"yshift\": -30}], \"font\": {\"color\": \"#371ea3\"}, \"height\": 373.0, \"margin\": {\"b\": 71, \"r\": 30, \"t\": 78}, \"shapes\": [{\"line\": {\"color\": \"#371ea3\", \"dash\": \"dot\", \"width\": 1.5}, \"type\": \"line\", \"x0\": 0.2353752082544801, \"x1\": 0.2353752082544801, \"xref\": \"x\", \"y0\": 0, \"y1\": 10, \"yref\": \"y\"}], \"template\": {\"data\": {\"scatter\": [{\"type\": \"scatter\"}]}}, \"title\": {\"text\": \"Shapley Values\", \"x\": 0.15}, \"xaxis\": {\"anchor\": \"y\", \"automargin\": true, \"domain\": [0.0, 1.0], \"fixedrange\": true, \"gridwidth\": 2, \"range\": [0.2596252082544801, 0.42212520825448013], \"tickcolor\": \"white\", \"ticklen\": 3, \"ticks\": \"outside\", \"type\": \"linear\", \"zeroline\": false}, \"yaxis\": {\"anchor\": \"x\", \"automargin\": true, \"autorange\": \"reversed\", \"domain\": [0.0, 1.0], \"fixedrange\": true, \"gridwidth\": 2, \"tickcolor\": \"white\", \"ticklen\": 10, \"ticks\": \"outside\", \"type\": \"category\"}},\n",
       "                        {\"displaylogo\": false, \"staticPlot\": false, \"modeBarButtonsToRemove\": [\"sendDataToCloud\", \"lasso2d\", \"autoScale2d\", \"select2d\", \"zoom2d\", \"pan2d\", \"zoomIn2d\", \"zoomOut2d\", \"resetScale2d\", \"toggleSpikelines\", \"hoverCompareCartesian\", \"hoverClosestCartesian\"], \"responsive\": true}\n",
       "                    ).then(function(){\n",
       "                            \n",
       "var gd = document.getElementById('e8d2f2c7-1383-499f-91eb-571fd00f4dde');\n",
       "var x = new MutationObserver(function (mutations, observer) {{\n",
       "        var display = window.getComputedStyle(gd).display;\n",
       "        if (!display || display === 'none') {{\n",
       "            console.log([gd, 'removed!']);\n",
       "            Plotly.purge(gd);\n",
       "            observer.disconnect();\n",
       "        }}\n",
       "}});\n",
       "\n",
       "// Listen for the removal of the full notebook cells\n",
       "var notebookContainer = gd.closest('#notebook-container');\n",
       "if (notebookContainer) {{\n",
       "    x.observe(notebookContainer, {childList: true});\n",
       "}}\n",
       "\n",
       "// Listen for the clearing of the current output cell\n",
       "var outputEl = gd.closest('.output');\n",
       "if (outputEl) {{\n",
       "    x.observe(outputEl, {childList: true});\n",
       "}}\n",
       "\n",
       "                        })\n",
       "                };\n",
       "                });\n",
       "            </script>\n",
       "        </div>"
      ]
     },
     "metadata": {},
     "output_type": "display_data"
    },
    {
     "name": "stdout",
     "output_type": "stream",
     "text": [
      "intance of test set:\n"
     ]
    },
    {
     "data": {
      "text/html": [
       "<div>\n",
       "<style scoped>\n",
       "    .dataframe tbody tr th:only-of-type {\n",
       "        vertical-align: middle;\n",
       "    }\n",
       "\n",
       "    .dataframe tbody tr th {\n",
       "        vertical-align: top;\n",
       "    }\n",
       "\n",
       "    .dataframe thead th {\n",
       "        text-align: right;\n",
       "    }\n",
       "</style>\n",
       "<table border=\"1\" class=\"dataframe\">\n",
       "  <thead>\n",
       "    <tr style=\"text-align: right;\">\n",
       "      <th></th>\n",
       "      <th>Status_of_existing_checking_account</th>\n",
       "      <th>Duration_in_month</th>\n",
       "      <th>Purpose</th>\n",
       "      <th>Credit_amount</th>\n",
       "      <th>Savings_account</th>\n",
       "      <th>employment_since</th>\n",
       "      <th>Installment_rate_of_disposable_income</th>\n",
       "      <th>Sex</th>\n",
       "      <th>Other_debtors</th>\n",
       "      <th>Present_residence_since</th>\n",
       "      <th>Property</th>\n",
       "      <th>Age</th>\n",
       "      <th>Other_installment_plans</th>\n",
       "      <th>Housing</th>\n",
       "      <th>Number_of_credits</th>\n",
       "      <th>Job</th>\n",
       "      <th>Number_of_people_being_liable_to_provide_maintenance</th>\n",
       "      <th>foreign_worker</th>\n",
       "    </tr>\n",
       "  </thead>\n",
       "  <tbody>\n",
       "    <tr>\n",
       "      <th>262</th>\n",
       "      <td>min_0_DM</td>\n",
       "      <td>18</td>\n",
       "      <td>car_new</td>\n",
       "      <td>5302</td>\n",
       "      <td>less_100_DM</td>\n",
       "      <td>unemployed</td>\n",
       "      <td>2</td>\n",
       "      <td>F</td>\n",
       "      <td>none</td>\n",
       "      <td>4</td>\n",
       "      <td>no_property</td>\n",
       "      <td>36</td>\n",
       "      <td>none</td>\n",
       "      <td>for_free</td>\n",
       "      <td>3</td>\n",
       "      <td>manager</td>\n",
       "      <td>1</td>\n",
       "      <td>no</td>\n",
       "    </tr>\n",
       "  </tbody>\n",
       "</table>\n",
       "</div>"
      ],
      "text/plain": [
       "    Status_of_existing_checking_account  Duration_in_month  Purpose  \\\n",
       "262                            min_0_DM                 18  car_new   \n",
       "\n",
       "     Credit_amount Savings_account employment_since  \\\n",
       "262           5302     less_100_DM       unemployed   \n",
       "\n",
       "     Installment_rate_of_disposable_income Sex Other_debtors  \\\n",
       "262                                      2   F          none   \n",
       "\n",
       "     Present_residence_since     Property  Age Other_installment_plans  \\\n",
       "262                        4  no_property   36                    none   \n",
       "\n",
       "      Housing  Number_of_credits      Job  \\\n",
       "262  for_free                  3  manager   \n",
       "\n",
       "     Number_of_people_being_liable_to_provide_maintenance foreign_worker  \n",
       "262                                                  1                no  "
      ]
     },
     "execution_count": 171,
     "metadata": {},
     "output_type": "execute_result"
    }
   ],
   "source": [
    "print(\"true value:\", y_test.iloc[idx3])\n",
    "print(\"prediction:\", prediction_clf[idx3])\n",
    "\n",
    "#Shap\n",
    "sh_TPcase = exp.predict_parts(TPcase, type='shap', B = 20)\n",
    "sh_TPcase.result.label = \"True Positive Case\"\n",
    "sh_TPcase.plot(max_vars=10)\n",
    "\n",
    "print(\"intance of test set:\")\n",
    "TPcase"
   ]
  },
  {
   "cell_type": "code",
   "execution_count": 168,
   "metadata": {
    "scrolled": true
   },
   "outputs": [
    {
     "name": "stdout",
     "output_type": "stream",
     "text": [
      "true value: 0\n",
      "prediction: 0.9993198836489939\n"
     ]
    },
    {
     "data": {
      "application/vnd.plotly.v1+json": {
       "config": {
        "displaylogo": false,
        "modeBarButtonsToRemove": [
         "sendDataToCloud",
         "lasso2d",
         "autoScale2d",
         "select2d",
         "zoom2d",
         "pan2d",
         "zoomIn2d",
         "zoomOut2d",
         "resetScale2d",
         "toggleSpikelines",
         "hoverCompareCartesian",
         "hoverClosestCartesian"
        ],
        "plotlyServerURL": "https://plot.ly",
        "staticPlot": false
       },
       "data": [
        {
         "base": 0.2353752082544801,
         "hoverinfo": "text",
         "hoverlabel": {
          "bgcolor": "rgba(0,0,0,0.8)"
         },
         "hovertext": [
          "Average response: 0.235<br>Prediction: 0.999<br>Number_of_credits = 2.0<br>increases average response <br>by 0.121",
          "Average response: 0.235<br>Prediction: 0.999<br>Status_of_existing_checking_account = no_checking_account<br>increases average response <br>by 0.088",
          "Average response: 0.235<br>Prediction: 0.999<br>Duration_in_month = 18.0<br>increases average response <br>by 0.078",
          "Average response: 0.235<br>Prediction: 0.999<br>employment_since = unemployed<br>increases average response <br>by 0.057",
          "Average response: 0.235<br>Prediction: 0.999<br>Present_residence_since = 4.0<br>increases average response <br>by 0.053",
          "Average response: 0.235<br>Prediction: 0.999<br>Savings_account = less_100_DM<br>increases average response <br>by 0.051",
          "Average response: 0.235<br>Prediction: 0.999<br>Credit_amount = 6458.0<br>increases average response <br>by 0.046",
          "Average response: 0.235<br>Prediction: 0.999<br>Sex = F<br>increases average response <br>by 0.041",
          "Average response: 0.235<br>Prediction: 0.999<br>Other_installment_plans = bank<br>increases average response <br>by 0.04",
          "Average response: 0.235<br>Prediction: 0.999<br>+ all other factors<br>increases average response <br>by 0.198"
         ],
         "marker": {
          "color": [
           "#8bdcbe",
           "#8bdcbe",
           "#8bdcbe",
           "#8bdcbe",
           "#8bdcbe",
           "#8bdcbe",
           "#8bdcbe",
           "#8bdcbe",
           "#8bdcbe",
           "#8bdcbe"
          ]
         },
         "orientation": "h",
         "showlegend": false,
         "text": [
          "+0.121",
          "+0.088",
          "+0.078",
          "+0.057",
          "+0.053",
          "+0.051",
          "+0.046",
          "+0.041",
          "+0.04",
          "+0.198"
         ],
         "textposition": "outside",
         "type": "bar",
         "x": [
          0.121,
          0.088,
          0.078,
          0.057,
          0.053,
          0.051,
          0.046,
          0.041,
          0.04,
          0.198
         ],
         "xaxis": "x",
         "y": [
          "Number_of_credits = 2.0",
          "Status_of_existing_checking_account = no_checking_account",
          "Duration_in_month = 18.0",
          "employment_since = unemployed",
          "Present_residence_since = 4.0",
          "Savings_account = less_100_DM",
          "Credit_amount = 6458.0",
          "Sex = F",
          "Other_installment_plans = bank",
          "+ all other factors"
         ],
         "yaxis": "y"
        }
       ],
       "layout": {
        "annotations": [
         {
          "font": {
           "size": 16
          },
          "showarrow": false,
          "text": "False Positive Case",
          "x": 0.5,
          "xanchor": "center",
          "xref": "paper",
          "y": 1,
          "yanchor": "bottom",
          "yref": "paper"
         },
         {
          "font": {
           "size": 16
          },
          "showarrow": false,
          "text": "contribution",
          "x": 0.5,
          "xanchor": "center",
          "xref": "paper",
          "y": 0,
          "yanchor": "top",
          "yref": "paper",
          "yshift": -30
         }
        ],
        "font": {
         "color": "#371ea3"
        },
        "height": 373,
        "margin": {
         "b": 71,
         "r": 30,
         "t": 78
        },
        "shapes": [
         {
          "line": {
           "color": "#371ea3",
           "dash": "dot",
           "width": 1.5
          },
          "type": "line",
          "x0": 0.2353752082544801,
          "x1": 0.2353752082544801,
          "xref": "x",
          "y0": 0,
          "y1": 10,
          "yref": "y"
         }
        ],
        "template": {
         "data": {
          "scatter": [
           {
            "type": "scatter"
           }
          ]
         }
        },
        "title": {
         "text": "Shapley Values",
         "x": 0.15
        },
        "xaxis": {
         "anchor": "y",
         "automargin": true,
         "domain": [
          0,
          1
         ],
         "fixedrange": true,
         "gridwidth": 2,
         "range": [
          0.2516752082544801,
          0.4570752082544801
         ],
         "tickcolor": "white",
         "ticklen": 3,
         "ticks": "outside",
         "type": "linear",
         "zeroline": false
        },
        "yaxis": {
         "anchor": "x",
         "automargin": true,
         "autorange": "reversed",
         "domain": [
          0,
          1
         ],
         "fixedrange": true,
         "gridwidth": 2,
         "tickcolor": "white",
         "ticklen": 10,
         "ticks": "outside",
         "type": "category"
        }
       }
      },
      "text/html": [
       "<div>\n",
       "        \n",
       "        \n",
       "            <div id=\"24110270-8a19-4d7c-aee1-9b2340182b5b\" class=\"plotly-graph-div\" style=\"height:373.0px; width:100%;\"></div>\n",
       "            <script type=\"text/javascript\">\n",
       "                require([\"plotly\"], function(Plotly) {\n",
       "                    window.PLOTLYENV=window.PLOTLYENV || {};\n",
       "                    \n",
       "                if (document.getElementById(\"24110270-8a19-4d7c-aee1-9b2340182b5b\")) {\n",
       "                    Plotly.newPlot(\n",
       "                        '24110270-8a19-4d7c-aee1-9b2340182b5b',\n",
       "                        [{\"base\": 0.2353752082544801, \"hoverinfo\": \"text\", \"hoverlabel\": {\"bgcolor\": \"rgba(0,0,0,0.8)\"}, \"hovertext\": [\"Average response: 0.235<br>Prediction: 0.999<br>Number_of_credits = 2.0<br>increases average response <br>by 0.121\", \"Average response: 0.235<br>Prediction: 0.999<br>Status_of_existing_checking_account = no_checking_account<br>increases average response <br>by 0.088\", \"Average response: 0.235<br>Prediction: 0.999<br>Duration_in_month = 18.0<br>increases average response <br>by 0.078\", \"Average response: 0.235<br>Prediction: 0.999<br>employment_since = unemployed<br>increases average response <br>by 0.057\", \"Average response: 0.235<br>Prediction: 0.999<br>Present_residence_since = 4.0<br>increases average response <br>by 0.053\", \"Average response: 0.235<br>Prediction: 0.999<br>Savings_account = less_100_DM<br>increases average response <br>by 0.051\", \"Average response: 0.235<br>Prediction: 0.999<br>Credit_amount = 6458.0<br>increases average response <br>by 0.046\", \"Average response: 0.235<br>Prediction: 0.999<br>Sex = F<br>increases average response <br>by 0.041\", \"Average response: 0.235<br>Prediction: 0.999<br>Other_installment_plans = bank<br>increases average response <br>by 0.04\", \"Average response: 0.235<br>Prediction: 0.999<br>+ all other factors<br>increases average response <br>by 0.198\"], \"marker\": {\"color\": [\"#8bdcbe\", \"#8bdcbe\", \"#8bdcbe\", \"#8bdcbe\", \"#8bdcbe\", \"#8bdcbe\", \"#8bdcbe\", \"#8bdcbe\", \"#8bdcbe\", \"#8bdcbe\"]}, \"orientation\": \"h\", \"showlegend\": false, \"text\": [\"+0.121\", \"+0.088\", \"+0.078\", \"+0.057\", \"+0.053\", \"+0.051\", \"+0.046\", \"+0.041\", \"+0.04\", \"+0.198\"], \"textposition\": \"outside\", \"type\": \"bar\", \"x\": [0.121, 0.088, 0.078, 0.057, 0.053, 0.051, 0.046, 0.041, 0.04, 0.198], \"xaxis\": \"x\", \"y\": [\"Number_of_credits = 2.0\", \"Status_of_existing_checking_account = no_checking_account\", \"Duration_in_month = 18.0\", \"employment_since = unemployed\", \"Present_residence_since = 4.0\", \"Savings_account = less_100_DM\", \"Credit_amount = 6458.0\", \"Sex = F\", \"Other_installment_plans = bank\", \"+ all other factors\"], \"yaxis\": \"y\"}],\n",
       "                        {\"annotations\": [{\"font\": {\"size\": 16}, \"showarrow\": false, \"text\": \"False Positive Case\", \"x\": 0.5, \"xanchor\": \"center\", \"xref\": \"paper\", \"y\": 1.0, \"yanchor\": \"bottom\", \"yref\": \"paper\"}, {\"font\": {\"size\": 16}, \"showarrow\": false, \"text\": \"contribution\", \"x\": 0.5, \"xanchor\": \"center\", \"xref\": \"paper\", \"y\": 0, \"yanchor\": \"top\", \"yref\": \"paper\", \"yshift\": -30}], \"font\": {\"color\": \"#371ea3\"}, \"height\": 373.0, \"margin\": {\"b\": 71, \"r\": 30, \"t\": 78}, \"shapes\": [{\"line\": {\"color\": \"#371ea3\", \"dash\": \"dot\", \"width\": 1.5}, \"type\": \"line\", \"x0\": 0.2353752082544801, \"x1\": 0.2353752082544801, \"xref\": \"x\", \"y0\": 0, \"y1\": 10, \"yref\": \"y\"}], \"template\": {\"data\": {\"scatter\": [{\"type\": \"scatter\"}]}}, \"title\": {\"text\": \"Shapley Values\", \"x\": 0.15}, \"xaxis\": {\"anchor\": \"y\", \"automargin\": true, \"domain\": [0.0, 1.0], \"fixedrange\": true, \"gridwidth\": 2, \"range\": [0.2516752082544801, 0.4570752082544801], \"tickcolor\": \"white\", \"ticklen\": 3, \"ticks\": \"outside\", \"type\": \"linear\", \"zeroline\": false}, \"yaxis\": {\"anchor\": \"x\", \"automargin\": true, \"autorange\": \"reversed\", \"domain\": [0.0, 1.0], \"fixedrange\": true, \"gridwidth\": 2, \"tickcolor\": \"white\", \"ticklen\": 10, \"ticks\": \"outside\", \"type\": \"category\"}},\n",
       "                        {\"displaylogo\": false, \"staticPlot\": false, \"modeBarButtonsToRemove\": [\"sendDataToCloud\", \"lasso2d\", \"autoScale2d\", \"select2d\", \"zoom2d\", \"pan2d\", \"zoomIn2d\", \"zoomOut2d\", \"resetScale2d\", \"toggleSpikelines\", \"hoverCompareCartesian\", \"hoverClosestCartesian\"], \"responsive\": true}\n",
       "                    ).then(function(){\n",
       "                            \n",
       "var gd = document.getElementById('24110270-8a19-4d7c-aee1-9b2340182b5b');\n",
       "var x = new MutationObserver(function (mutations, observer) {{\n",
       "        var display = window.getComputedStyle(gd).display;\n",
       "        if (!display || display === 'none') {{\n",
       "            console.log([gd, 'removed!']);\n",
       "            Plotly.purge(gd);\n",
       "            observer.disconnect();\n",
       "        }}\n",
       "}});\n",
       "\n",
       "// Listen for the removal of the full notebook cells\n",
       "var notebookContainer = gd.closest('#notebook-container');\n",
       "if (notebookContainer) {{\n",
       "    x.observe(notebookContainer, {childList: true});\n",
       "}}\n",
       "\n",
       "// Listen for the clearing of the current output cell\n",
       "var outputEl = gd.closest('.output');\n",
       "if (outputEl) {{\n",
       "    x.observe(outputEl, {childList: true});\n",
       "}}\n",
       "\n",
       "                        })\n",
       "                };\n",
       "                });\n",
       "            </script>\n",
       "        </div>"
      ]
     },
     "metadata": {},
     "output_type": "display_data"
    }
   ],
   "source": [
    "print(\"true value:\", y_test.iloc[idx4])\n",
    "print(\"prediction:\", prediction_clf[idx4])\n",
    "\n",
    "#Shap\n",
    "sh_FPcase = exp.predict_parts(FPcase, type='shap', B = 10)\n",
    "sh_FPcase.result.label = \"False Positive Case\"\n",
    "sh_FPcase.plot(max_vars=10)"
   ]
  },
  {
   "cell_type": "markdown",
   "metadata": {},
   "source": [
    "## Quantifyng Unfairness"
   ]
  },
  {
   "cell_type": "code",
   "execution_count": 180,
   "metadata": {},
   "outputs": [],
   "source": [
    "X_test_v = X_test.copy()\n",
    "X_test_v[\"Pred_target\"] = ((clf.predict_proba(X_test)[:,1]) > (german_data.Target.mean())).astype(int)"
   ]
  },
  {
   "cell_type": "code",
   "execution_count": 245,
   "metadata": {},
   "outputs": [
    {
     "name": "stdout",
     "output_type": "stream",
     "text": [
      "STARTING DATASET\n",
      "Average H-risk: 0.293\n",
      "Average H-risk for woman: 0.3101449275362319\n",
      "Average H-risk for man: 0.25483870967741934\n",
      "__________________________________________________________________________\n",
      "                                                                          \n",
      "MODEL PREDICTION\n",
      "Average H-risk -model output: 0.24166666666666667\n",
      "Average H-risk for woman - model output: 0.2529832935560859\n",
      "Average H-risk for man - model output: 0.2154696132596685\n"
     ]
    },
    {
     "data": {
      "image/png": "[encoded data removed]",
      "text/plain": [
       "<Figure size 432x288 with 1 Axes>"
      ]
     },
     "metadata": {
      "needs_background": "light"
     },
     "output_type": "display_data"
    }
   ],
   "source": [
    "print(\"STARTING DATASET\")\n",
    "print(\"Average H-risk:\",german_data.Target.mean())\n",
    "print(\"Average H-risk for woman:\",german_data.loc[german_data['Sex'] == \"F\", \"Target\"].mean())\n",
    "print(\"Average H-risk for man:\",german_data.loc[german_data['Sex'] == \"M\", \"Target\"].mean())\n",
    "\n",
    "print(\"__________________________________________________________________________\")\n",
    "print(\"                                                                          \")\n",
    "print(\"MODEL PREDICTION\")\n",
    "print(\"Average H-risk -model output:\",X_test_v.Pred_target.mean())\n",
    "print(\"Average H-risk for woman - model output:\",X_test_v.loc[X_test_v['Sex'] == \"F\", \"Pred_target\"].mean())\n",
    "print(\"Average H-risk for man - model output:\",X_test_v.loc[X_test_v['Sex'] == \"M\", \"Pred_target\"].mean())\n",
    "\n",
    "fig = plt.figure()\n",
    "ax = fig.add_axes([0,0,1,1])\n",
    "classes = ['Man', 'Woman']\n",
    "values = [X_test_v.loc[X_test_v['Sex'] == \"M\", \"Pred_target\"].mean(),X_test_v.loc[X_test_v['Sex'] == \"F\", \"Pred_target\"].mean()]\n",
    "ax.bar(classes,values)\n",
    "plt.title(\"probability of getting a high risk\")\n",
    "plt.show()"
   ]
  },
  {
   "cell_type": "code",
   "execution_count": 25,
   "metadata": {},
   "outputs": [
    {
     "name": "stdout",
     "output_type": "stream",
     "text": [
      "Disparate impact testing: 0.8517147920358595\n"
     ]
    }
   ],
   "source": [
    "DIT = X_test_v.loc[german_data['Sex'] == \"M\", \"Pred_target\"].mean()/X_test_v.loc[german_data['Sex'] == \"F\", \"Pred_target\"].mean()\n",
    "print(\"Disparate impact testing:\",DIT)"
   ]
  },
  {
   "cell_type": "markdown",
   "metadata": {},
   "source": [
    "## Removing Unfairness"
   ]
  },
  {
   "cell_type": "markdown",
   "metadata": {},
   "source": [
    "### Preprocessing method: Oversampling"
   ]
  },
  {
   "cell_type": "code",
   "execution_count": 238,
   "metadata": {},
   "outputs": [],
   "source": [
    "X_train_o = X_train.copy()\n",
    "X_train_o[\"Target\"]=y_train"
   ]
  },
  {
   "cell_type": "code",
   "execution_count": 239,
   "metadata": {},
   "outputs": [
    {
     "name": "stdout",
     "output_type": "stream",
     "text": [
      "Quantity of C: 26\n",
      "Optimal Quantity of C: 42.380208333333336\n",
      "Ratio for woman : 0.2915129151291513\n",
      "Ratio for man : 0.20155038759689922\n",
      "Optimal ratio for man : 0.2915129151291513\n"
     ]
    }
   ],
   "source": [
    "#Oversampling\n",
    "\n",
    "#quantity of every combination \"protected attribute - target variable\"\n",
    "A = sum((X_train_o.Sex==\"F\") & (X_train_o.Target==1))\n",
    "B = sum((X_train_o.Sex==\"F\") & (X_train_o.Target==0))\n",
    "C = sum((X_train_o.Sex==\"M\") & (X_train_o.Target==1))\n",
    "D = sum((X_train_o.Sex==\"M\") & (X_train_o.Target==0))\n",
    "\n",
    "#Optimal quantity of C for non-discrimination\n",
    "C_ott = (A*D/(A+B))/(1-(A/(A+B)))\n",
    "\n",
    "print(\"Quantity of C:\",C)\n",
    "print(\"Optimal Quantity of C:\",C_ott)\n",
    "print(\"Ratio for woman :\",A/ (A+B))\n",
    "print(\"Ratio for man :\",C/(C+D))\n",
    "print(\"Optimal ratio for man :\",C_ott/(C_ott+D))"
   ]
  },
  {
   "cell_type": "code",
   "execution_count": 240,
   "metadata": {},
   "outputs": [],
   "source": [
    "underClass = X_train_o[(X_train_o.Sex==\"M\") & (X_train_o.Target==1)].copy()"
   ]
  },
  {
   "cell_type": "code",
   "execution_count": 241,
   "metadata": {},
   "outputs": [],
   "source": [
    "underClass = underClass.reset_index().drop(columns= \"index\")"
   ]
  },
  {
   "cell_type": "code",
   "execution_count": 242,
   "metadata": {},
   "outputs": [],
   "source": [
    "RtA = int(C_ott) - C\n",
    "for x in range(0,RtA):\n",
    "    X_train_o = X_train_o.append(underClass.iloc[random.sample(list(underClass.index),1)])"
   ]
  },
  {
   "cell_type": "code",
   "execution_count": 243,
   "metadata": {},
   "outputs": [
    {
     "name": "stdout",
     "output_type": "stream",
     "text": [
      "New Quantity of C: 42\n",
      "Ratio for woman : 0.2915129151291513\n",
      "Ratio for man : 0.2896551724137931\n"
     ]
    }
   ],
   "source": [
    "#Quote per ogni partizione variabile sensibile - target\n",
    "A = sum((X_train_o.Sex==\"F\") & (X_train_o.Target==1))\n",
    "B = sum((X_train_o.Sex==\"F\") & (X_train_o.Target==0))\n",
    "C_new = sum((X_train_o.Sex==\"M\") & (X_train_o.Target==1))\n",
    "D = sum((X_train_o.Sex==\"M\") & (X_train_o.Target==0))\n",
    "\n",
    "#quota di C ottimale per non discriminazione\n",
    "\n",
    "print(\"New Quantity of C:\",C_new)\n",
    "\n",
    "print(\"Ratio for woman :\",A/ (A+B))\n",
    "print(\"Ratio for man :\",C_new/(C_new+D))"
   ]
  },
  {
   "cell_type": "code",
   "execution_count": 232,
   "metadata": {},
   "outputs": [],
   "source": [
    "y_train_o = X_train_o[\"Target\"]\n",
    "X_train_o = X_train_o.drop(columns=(\"Target\"))"
   ]
  },
  {
   "cell_type": "code",
   "execution_count": 233,
   "metadata": {},
   "outputs": [
    {
     "data": {
      "text/plain": [
       "Pipeline(memory=None,\n",
       "         steps=[('preprocessor',\n",
       "                 ColumnTransformer(n_jobs=None, remainder='drop',\n",
       "                                   sparse_threshold=0.3,\n",
       "                                   transformer_weights=None,\n",
       "                                   transformers=[('num',\n",
       "                                                  Pipeline(memory=None,\n",
       "                                                           steps=[('imputer',\n",
       "                                                                   SimpleImputer(add_indicator=False,\n",
       "                                                                                 copy=True,\n",
       "                                                                                 fill_value=None,\n",
       "                                                                                 missing_values=nan,\n",
       "                                                                                 strategy='median',\n",
       "                                                                                 verbose=0)),\n",
       "                                                                  ('scaler',\n",
       "                                                                   StandardScaler(copy=True,\n",
       "                                                                                  with_mean...\n",
       "                               batch_size='auto', beta_1=0.9, beta_2=0.999,\n",
       "                               early_stopping=False, epsilon=1e-08,\n",
       "                               hidden_layer_sizes=(150, 100, 50),\n",
       "                               learning_rate='constant',\n",
       "                               learning_rate_init=0.001, max_fun=15000,\n",
       "                               max_iter=500, momentum=0.9, n_iter_no_change=10,\n",
       "                               nesterovs_momentum=True, power_t=0.5,\n",
       "                               random_state=1234, shuffle=True, solver='adam',\n",
       "                               tol=0.0001, validation_fraction=0.1,\n",
       "                               verbose=False, warm_start=False))],\n",
       "         verbose=False)"
      ]
     },
     "execution_count": 233,
     "metadata": {},
     "output_type": "execute_result"
    }
   ],
   "source": [
    "clf.fit(X_train_o,y_train_o)"
   ]
  },
  {
   "cell_type": "code",
   "execution_count": 246,
   "metadata": {},
   "outputs": [
    {
     "name": "stdout",
     "output_type": "stream",
     "text": [
      "MODEL PREDICTION\n",
      "Average H-risk - model output: 0.25833333333333336\n",
      "Average H-risk for woman - model output: 0.2577565632458234\n",
      "Average H-risk for man - model output: 0.2596685082872928\n"
     ]
    },
    {
     "data": {
      "image/png": "[encoded data removed]",
      "text/plain": [
       "<Figure size 432x288 with 1 Axes>"
      ]
     },
     "metadata": {
      "needs_background": "light"
     },
     "output_type": "display_data"
    }
   ],
   "source": [
    "X_test_v_O = X_test.copy()\n",
    "X_test_v_O[\"Pred_target\"] = ((clf.predict_proba(X_test)[:,1]) > (german_data.Target.mean())).astype(int)\n",
    "\n",
    "print(\"MODEL PREDICTION\")\n",
    "print(\"Average H-risk - model output:\",X_test_v_O.Pred_target.mean())\n",
    "print(\"Average H-risk for woman - model output:\",X_test_v_O.loc[X_test_v_O['Sex'] == \"F\", \"Pred_target\"].mean())\n",
    "print(\"Average H-risk for man - model output:\",X_test_v_O.loc[X_test_v_O['Sex'] == \"M\", \"Pred_target\"].mean())\n",
    "\n",
    "fig = plt.figure()\n",
    "ax = fig.add_axes([0,0,1,1])\n",
    "classes = ['Man', 'Woman']\n",
    "values = [X_test_v_O.loc[X_test_v_O['Sex'] == \"M\", \"Pred_target\"].mean(),X_test_v_O.loc[X_test_v_O['Sex'] == \"F\", \"Pred_target\"].mean()]\n",
    "ax.bar(classes,values)\n",
    "plt.title(\"probability of getting a high risk\")\n",
    "plt.show()"
   ]
  },
  {
   "cell_type": "code",
   "execution_count": 247,
   "metadata": {},
   "outputs": [
    {
     "name": "stdout",
     "output_type": "stream",
     "text": [
      "ROC: 0.8039790332575916\n"
     ]
    }
   ],
   "source": [
    "print(\"ROC:\",roc_auc_score(y_test, clf.predict_proba(X_test)[:,1]))\n"
   ]
  },
  {
   "cell_type": "code",
   "execution_count": 236,
   "metadata": {},
   "outputs": [
    {
     "name": "stdout",
     "output_type": "stream",
     "text": [
      "Disparate impact testing: 1.0074176386331082\n"
     ]
    }
   ],
   "source": [
    "DIT = X_test_v_O.loc[german_data['Sex'] == \"M\", \"Pred_target\"].mean()/X_test_v_O.loc[german_data['Sex'] == \"F\", \"Pred_target\"].mean()\n",
    "print(\"Disparate impact testing:\",DIT)"
   ]
  }
 ],
 "metadata": {
  "kernelspec": {
   "display_name": "Python 3",
   "language": "python",
   "name": "python3"
  },
  "language_info": {
   "codemirror_mode": {
    "name": "ipython",
    "version": 3
   },
   "file_extension": ".py",
   "mimetype": "text/x-python",
   "name": "python",
   "nbconvert_exporter": "python",
   "pygments_lexer": "ipython3",
   "version": "3.7.4"
  }
 },
 "nbformat": 4,
 "nbformat_minor": 1
}
